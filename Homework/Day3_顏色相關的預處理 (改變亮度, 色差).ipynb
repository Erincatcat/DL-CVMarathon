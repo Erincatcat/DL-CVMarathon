{
 "cells": [
  {
   "cell_type": "markdown",
   "metadata": {},
   "source": [
    "# 作業\n",
    "實作各種不一樣的方式來調整飽和 / 對比 / 明亮\n",
    "\n",
    "1. 改變 color space 來調整飽和度\n",
    "2. 實作直方圖均衡\n",
    "3. alpha/ beta 調整對比 / 明亮"
   ]
  },
  {
   "cell_type": "code",
   "execution_count": 9,
   "metadata": {},
   "outputs": [],
   "source": [
    "import cv2\n",
    "\n",
    "img = cv2.imread('lena.png', cv2.IMREAD_COLOR)\n",
    "box = cv2.imread('box.png',  cv2.IMREAD_COLOR)"
   ]
  },
  {
   "cell_type": "markdown",
   "metadata": {},
   "source": [
    "## 調整飽和度，首先要轉成HLS，再針對Saturation修改"
   ]
  },
  {
   "cell_type": "code",
   "execution_count": 10,
   "metadata": {},
   "outputs": [],
   "source": [
    "# 為了要改變飽和度，我們先把color space轉成HSL格式(OpenCV表示順序為HLS)\n",
    "img_hls = cv2.cvtColor(img, cv2.COLOR_BGR2HLS)\n",
    "change_percentage = 0.4\n",
    "\n",
    "# 針對飽和度的值做改變，超過界線0~1的都會bound\n",
    "# 在HLS color space減少飽和度\n",
    "img_hls_down = img_hls.astype('float32')\n",
    "img_hls_down[..., -1] = img_hls_down[..., -1]/255 - change_percentage\n",
    "    # img_hls_down 是一個三維矩陣，前面兩個維度代表長跟寬，第3個維度(也就是-1的這個位置)在這邊分別是 H, L, S channel\n",
    "    # -1 means 取最後一個 channel，也就是 S channel (飽和度)\n",
    "img_hls_down[img_hls_down[..., -1] < 0] = 0\n",
    "    # 找出所有 S channel的值小於零者，再把他的值設為零，這樣就可以確保 S channel 所有的值都在合理範圍0~1\n",
    "img_hls_down[..., -1] = img_hls_down[..., -1] * 255\n",
    "    #將圖片依序轉回 0~255 區間\n",
    "img_hls_down = img_hls_down.astype('uint8')\n",
    "    #將圖片轉回 uint8格式\n",
    "\n",
    "# 在HLS color space增加飽和度\n",
    "img_hls_up = img_hls.astype('float32')\n",
    "img_hls_up[..., -1] = img_hls_up[..., -1]/255 + change_percentage\n",
    "img_hls_up[img_hls_up[..., -1] > 1] = 1\n",
    "img_hls_up[..., -1] = img_hls_up[..., -1] * 255\n",
    "img_hls_up = img_hls_up.astype('uint8')\n",
    "            \n",
    "# 轉換\n",
    "img_hls_down = cv2.cvtColor(img_hls_down, cv2.COLOR_HLS2BGR)\n",
    "img_hls_up   = cv2.cvtColor(img_hls_up,   cv2.COLOR_HLS2BGR)\n",
    "\n",
    "# 組合圖片 + 顯示圖片\n",
    "img_hls_change = np.hstack((img, img_hls_down, img_hls_up))\n",
    "while True:\n",
    "    cv2.imshow('change saturation', img_hls_change)\n",
    "    k = cv2.waitKey(0)\n",
    "    if k == 27:\n",
    "        cv2.destroyAllWindows()\n",
    "        break\n",
    "    "
   ]
  },
  {
   "cell_type": "markdown",
   "metadata": {},
   "source": [
    "## 直方圖均衡"
   ]
  },
  {
   "cell_type": "code",
   "execution_count": 11,
   "metadata": {},
   "outputs": [],
   "source": [
    "# 轉為灰階圖片\n",
    "box_gray = cv2.cvtColor(box, cv2.COLOR_BGR2GRAY)\n",
    "\n",
    "# 灰階圖片直方圖均衡\n",
    "box_gray_equal = cv2.equalizeHist(box_gray)\n",
    "\n",
    "# 組合圖片 + 顯示圖片\n",
    "box_gray_equalHist = np.hstack((box_gray, box_gray_equal))\n",
    "while True:\n",
    "    # 比較灰階圖片是否有作直方圖均衡的差異\n",
    "    cv2.imshow('gray equal histogram', box_gray_equalHist)\n",
    "    \n",
    "    k = cv2.waitKey(0)\n",
    "    if k ==27:\n",
    "        cv2.destroyAllWindows()\n",
    "        break\n"
   ]
  },
  {
   "cell_type": "markdown",
   "metadata": {},
   "source": [
    "## 調整對比 / 明亮"
   ]
  },
  {
   "cell_type": "code",
   "execution_count": 12,
   "metadata": {},
   "outputs": [],
   "source": [
    "# alpha: 控制對比度(1.0~3.0)\n",
    "# beta:  控制明亮度(0~255)\n",
    "add_contrast  = cv2.convertScaleAbs(img, alpha=2.5, beta=0)\n",
    "add_lightness = cv2.convertScaleAbs(img, alpha=1.0, beta=100)\n",
    "\n",
    "# 組合圖片 + 顯示圖片\n",
    "img_contrast_light = np.hstack((img, add_contrast, add_lightness))\n",
    "while True:\n",
    "    #比較不同程度的對比 / 明亮\n",
    "    cv2.imshow('adjust contrast and brightness', img_contrast_light)\n",
    "    k = cv2.waitKey(0)\n",
    "    if k == 27:\n",
    "        cv2.destroyAllWindows()\n",
    "        break\n"
   ]
  },
  {
   "cell_type": "code",
   "execution_count": null,
   "metadata": {},
   "outputs": [],
   "source": []
  },
  {
   "cell_type": "markdown",
   "metadata": {},
   "source": [
    "# 範例\n",
    "實作各種不一樣的方式來調整飽和 / 對比 / 明亮\n",
    "\n",
    "1. 改變到 HSL color space 來調整飽和度 \n",
    "2. 對灰階圖實作直方圖均衡\n",
    "3. alpha/ beta 調整對比 / 明亮"
   ]
  },
  {
   "cell_type": "code",
   "execution_count": 2,
   "metadata": {},
   "outputs": [],
   "source": [
    "import cv2\n",
    "\n",
    "img = cv2.imread('lena.png', cv2.IMREAD_COLOR)"
   ]
  },
  {
   "cell_type": "markdown",
   "metadata": {},
   "source": [
    "## 改變飽和度  \n",
    "轉換成 HLS color space, 改變 s channel 的值"
   ]
  },
  {
   "cell_type": "code",
   "execution_count": 3,
   "metadata": {},
   "outputs": [],
   "source": [
    "# 為了要改變飽和度，我們先把color space轉成HSL格式(OpenCV表示順序為HLS)\n",
    "img_hls = cv2.cvtColor(img, cv2.COLOR_BGR2HLS)\n",
    "change_percentage = 0.2\n",
    "\n",
    "# 針對飽和度的值做改變，超過界線0~1的都會bound\n",
    "# 在HLS color space減少飽和度\n",
    "img_hls_down = img_hls.astype('float32')\n",
    "img_hls_down[..., -1] = img_hls_down[..., -1]/255 - change_percentage\n",
    "    # img_hls_down 是一個三維矩陣，前面兩個維度代表長跟寬，第3個維度(也就是-1的這個位置)在這邊分別是 H, L, S channel\n",
    "    # -1 means 取最後一個 channel，也就是 S channel (飽和度)\n",
    "img_hls_down[img_hls_down[..., -1] < 0] = 0\n",
    "    # 找出所有 S channel的值小於零者，再把他的值設為零，這樣就可以確保 S channel 所有的值都在合理範圍0~1\n",
    "img_hls_down[..., -1] = img_hls_down[..., -1] * 255\n",
    "    #將圖片依序轉回 0~255 區間\n",
    "img_hls_down = img_hls_down.astype('uint8')\n",
    "    #將圖片轉回 uint8格式\n",
    "\n",
    "# 在HLS color space增加飽和度\n",
    "img_hls_up = img_hls.astype('float32')\n",
    "img_hls_up[..., -1] = img_hls_up[..., -1]/255 + change_percentage\n",
    "img_hls_up[img_hls_up[..., -1] > 1] = 1\n",
    "img_hls_up[..., -1] = img_hls_up[..., -1] * 255\n",
    "img_hls_up = img_hls_up.astype('uint8')\n",
    "            \n",
    "# 轉換\n",
    "img_hls_down = cv2.cvtColor(img_hls_down, cv2.COLOR_HLS2BGR)\n",
    "img_hls_up   = cv2.cvtColor(img_hls_up,   cv2.COLOR_HLS2BGR)\n",
    "\n",
    "# 組合圖片 + 顯示圖片\n",
    "img_hls_change = np.hstack((img, img_hls_down, img_hls_up))\n",
    "while True:\n",
    "    cv2.imshow('change saturation', img_hls_change)\n",
    "    k = cv2.waitKey(0)\n",
    "    if k == 27:\n",
    "        cv2.destroyAllWindows()\n",
    "        break\n",
    "    "
   ]
  },
  {
   "cell_type": "markdown",
   "metadata": {},
   "source": [
    "## 直方圖均衡"
   ]
  },
  {
   "cell_type": "code",
   "execution_count": 4,
   "metadata": {},
   "outputs": [],
   "source": [
    "# 轉為灰階圖片\n",
    "img_gray = cv2.cvtColor(img, cv2.COLOR_BGR2GRAY)\n",
    "\n",
    "# 灰階圖片直方圖均衡\n",
    "img_gray_equal = cv2.equalizeHist(img_gray)\n",
    "\n",
    "# 組合圖片 + 顯示圖片\n",
    "img_gray_equalHist = np.hstack((img_gray, img_gray_equal))\n",
    "while True:\n",
    "    # 比較灰階圖片是否有作直方圖均衡的差異\n",
    "    cv2.imshow('gray equal histogram', img_gray_equalHist)\n",
    "    \n",
    "    k = cv2.waitKey(0)\n",
    "    if k ==27:\n",
    "        cv2.destroyAllWindows()\n",
    "        break\n"
   ]
  },
  {
   "cell_type": "markdown",
   "metadata": {},
   "source": [
    "## 調整對比 / 明亮"
   ]
  },
  {
   "cell_type": "code",
   "execution_count": 5,
   "metadata": {},
   "outputs": [],
   "source": [
    "# alpha: 控制對比度(1.0~3.0)\n",
    "# beta:  控制明亮度(0~255)\n",
    "add_contrast  = cv2.convertScaleAbs(img, alpha=2.0, beta=0)\n",
    "add_lightness = cv2.convertScaleAbs(img, alpha=1.0, beta=50)\n",
    "\n",
    "# 組合圖片 + 顯示圖片\n",
    "img_contrast_light = np.hstack((img, add_contrast, add_lightness))\n",
    "while True:\n",
    "    #比較不同程度的對比 / 明亮\n",
    "    cv2.imshow('adjust contrast and brightness', img_contrast_light)\n",
    "    k = cv2.waitKey(0)\n",
    "    if k == 27:\n",
    "        cv2.destroyAllWindows()\n",
    "        break\n"
   ]
  },
  {
   "cell_type": "code",
   "execution_count": null,
   "metadata": {},
   "outputs": [],
   "source": []
  }
 ],
 "metadata": {
  "kernelspec": {
   "display_name": "Python 3",
   "language": "python",
   "name": "python3"
  },
  "language_info": {
   "codemirror_mode": {
    "name": "ipython",
    "version": 3
   },
   "file_extension": ".py",
   "mimetype": "text/x-python",
   "name": "python",
   "nbconvert_exporter": "python",
   "pygments_lexer": "ipython3",
   "version": "3.6.1"
  },
  "toc": {
   "base_numbering": 1,
   "nav_menu": {},
   "number_sections": true,
   "sideBar": true,
   "skip_h1_title": false,
   "title_cell": "Table of Contents",
   "title_sidebar": "Contents",
   "toc_cell": false,
   "toc_position": {},
   "toc_section_display": true,
   "toc_window_display": false
  },
  "varInspector": {
   "cols": {
    "lenName": 16,
    "lenType": 16,
    "lenVar": 40
   },
   "kernels_config": {
    "python": {
     "delete_cmd_postfix": "",
     "delete_cmd_prefix": "del ",
     "library": "var_list.py",
     "varRefreshCmd": "print(var_dic_list())"
    },
    "r": {
     "delete_cmd_postfix": ") ",
     "delete_cmd_prefix": "rm(",
     "library": "var_list.r",
     "varRefreshCmd": "cat(var_dic_list()) "
    }
   },
   "types_to_exclude": [
    "module",
    "function",
    "builtin_function_or_method",
    "instance",
    "_Feature"
   ],
   "window_display": false
  }
 },
 "nbformat": 4,
 "nbformat_minor": 2
}
