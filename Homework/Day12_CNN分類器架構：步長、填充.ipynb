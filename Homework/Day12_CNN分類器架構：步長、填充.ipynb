{
 "cells": [
  {
   "cell_type": "markdown",
   "metadata": {},
   "source": [
    "# 『作業內容』\n",
    "依照指示，透過調整Padding、Strides參數控制輸出Feature map大小\n",
    "# 『目標』\n",
    "了解輸出feature map尺寸變化原理"
   ]
  },
  {
   "cell_type": "code",
   "execution_count": 1,
   "metadata": {},
   "outputs": [
    {
     "name": "stderr",
     "output_type": "stream",
     "text": [
      "Using TensorFlow backend.\n"
     ]
    }
   ],
   "source": [
    "from keras.models import Sequential, Model\n",
    "from keras.layers import Convolution2D, Input, Dense"
   ]
  },
  {
   "cell_type": "code",
   "execution_count": 13,
   "metadata": {},
   "outputs": [
    {
     "name": "stdout",
     "output_type": "stream",
     "text": [
      "模型1\n",
      "Model: \"model_7\"\n",
      "_________________________________________________________________\n",
      "Layer (type)                 Output Shape              Param #   \n",
      "=================================================================\n",
      "input_10 (InputLayer)        (None, 13, 13, 1)         0         \n",
      "_________________________________________________________________\n",
      "conv2d_7 (Conv2D)            (None, 13, 13, 32)        1184      \n",
      "=================================================================\n",
      "Total params: 1,184\n",
      "Trainable params: 1,184\n",
      "Non-trainable params: 0\n",
      "_________________________________________________________________\n"
     ]
    },
    {
     "name": "stderr",
     "output_type": "stream",
     "text": [
      "C:\\Users\\User\\Anaconda3\\envs\\python37tfgpu\\lib\\site-packages\\ipykernel_launcher.py:7: UserWarning: Update your `Conv2D` call to the Keras 2 API: `Conv2D(32, kernel_size=(6, 6), strides=(1, 1), padding=\"same\")`\n",
      "  import sys\n"
     ]
    }
   ],
   "source": [
    "## kernel size =(6,6)\n",
    "## kernel數量:32\n",
    "\n",
    "## Same padding、strides=(1,1)\n",
    "classifier = Sequential()\n",
    "inputs = Input(shape=(13,13,1))\n",
    "x = Convolution2D(32, kernel_size=(6,6), strides=(1,1), border_mode='same')(inputs)\n",
    "model = Model(inputs=inputs, outputs=x)\n",
    "print('模型1')\n",
    "model.summary()"
   ]
  },
  {
   "cell_type": "code",
   "execution_count": 14,
   "metadata": {},
   "outputs": [
    {
     "name": "stdout",
     "output_type": "stream",
     "text": [
      "模型2\n",
      "Model: \"model_8\"\n",
      "_________________________________________________________________\n",
      "Layer (type)                 Output Shape              Param #   \n",
      "=================================================================\n",
      "input_11 (InputLayer)        (None, 13, 13, 1)         0         \n",
      "_________________________________________________________________\n",
      "conv2d_8 (Conv2D)            (None, 7, 7, 32)          1184      \n",
      "=================================================================\n",
      "Total params: 1,184\n",
      "Trainable params: 1,184\n",
      "Non-trainable params: 0\n",
      "_________________________________________________________________\n"
     ]
    },
    {
     "name": "stderr",
     "output_type": "stream",
     "text": [
      "C:\\Users\\User\\Anaconda3\\envs\\python37tfgpu\\lib\\site-packages\\ipykernel_launcher.py:4: UserWarning: Update your `Conv2D` call to the Keras 2 API: `Conv2D(32, kernel_size=(6, 6), strides=(2, 2), padding=\"same\")`\n",
      "  after removing the cwd from sys.path.\n"
     ]
    }
   ],
   "source": [
    "## Same padding、strides=(2,2)\n",
    "classifier = Sequential()\n",
    "inputs = Input(shape=(13,13,1))\n",
    "x = Convolution2D(32, kernel_size=(6,6), strides=(2,2), border_mode='same')(inputs)\n",
    "model = Model(inputs = inputs, outputs = x)\n",
    "print('模型2')\n",
    "model.summary()"
   ]
  },
  {
   "cell_type": "code",
   "execution_count": 16,
   "metadata": {},
   "outputs": [
    {
     "name": "stdout",
     "output_type": "stream",
     "text": [
      "模型3\n",
      "Model: \"model_9\"\n",
      "_________________________________________________________________\n",
      "Layer (type)                 Output Shape              Param #   \n",
      "=================================================================\n",
      "input_13 (InputLayer)        (None, 13, 13, 1)         0         \n",
      "_________________________________________________________________\n",
      "conv2d_9 (Conv2D)            (None, 8, 8, 32)          1184      \n",
      "=================================================================\n",
      "Total params: 1,184\n",
      "Trainable params: 1,184\n",
      "Non-trainable params: 0\n",
      "_________________________________________________________________\n"
     ]
    },
    {
     "name": "stderr",
     "output_type": "stream",
     "text": [
      "C:\\Users\\User\\Anaconda3\\envs\\python37tfgpu\\lib\\site-packages\\ipykernel_launcher.py:4: UserWarning: Update your `Conv2D` call to the Keras 2 API: `Conv2D(32, kernel_size=(6, 6), strides=(1, 1), padding=\"valid\")`\n",
      "  after removing the cwd from sys.path.\n"
     ]
    }
   ],
   "source": [
    "## Valid padding、strides=(1,1)\n",
    "classifer = Sequential()\n",
    "inputs = Input(shape=(13,13,1))\n",
    "x = Convolution2D(32, kernel_size=(6,6), strides=(1,1), border_mode='valid')(inputs)\n",
    "model = Model(inputs = inputs, outputs = x)\n",
    "print('模型3')\n",
    "model.summary()"
   ]
  },
  {
   "cell_type": "code",
   "execution_count": 19,
   "metadata": {},
   "outputs": [
    {
     "name": "stdout",
     "output_type": "stream",
     "text": [
      "模型4\n",
      "Model: \"model_10\"\n",
      "_________________________________________________________________\n",
      "Layer (type)                 Output Shape              Param #   \n",
      "=================================================================\n",
      "input_14 (InputLayer)        (None, 13, 13, 1)         0         \n",
      "_________________________________________________________________\n",
      "conv2d_10 (Conv2D)           (None, 4, 4, 32)          1184      \n",
      "=================================================================\n",
      "Total params: 1,184\n",
      "Trainable params: 1,184\n",
      "Non-trainable params: 0\n",
      "_________________________________________________________________\n"
     ]
    },
    {
     "name": "stderr",
     "output_type": "stream",
     "text": [
      "C:\\Users\\User\\Anaconda3\\envs\\python37tfgpu\\lib\\site-packages\\ipykernel_launcher.py:4: UserWarning: Update your `Conv2D` call to the Keras 2 API: `Conv2D(32, kernel_size=(6, 6), strides=(2, 2), padding=\"valid\")`\n",
      "  after removing the cwd from sys.path.\n"
     ]
    }
   ],
   "source": [
    "## Valid padding、strides=(2,2)\n",
    "classifier = Sequential()\n",
    "inputs = Input(shape=(13,13,1))\n",
    "x = Convolution2D(32, kernel_size=(6,6), strides=(2,2), border_mode='valid')(inputs)\n",
    "model = Model(inputs = inputs, outputs = x)\n",
    "print('模型4')\n",
    "model.summary()"
   ]
  },
  {
   "cell_type": "markdown",
   "metadata": {},
   "source": [
    "### 本次主題為透過調整strides和padding控制卷積大小  \n",
    "**Strides：控制 Kernel 在圖像不同 Dimention 上移動的距離。**  \n",
    "**Padding：用途主要在於避免圖像尺⼨下降，而為了避免干擾圖像資訊，通常Padding為補 0 的像素；當Padding=1就是在圖像周圍補一圈值為 0 的像素。**\n",
    "    1. border_mode = 'valid'：就是不去 Padding，多的像素直接捨去\n",
    "    2. border_mode = 'same'：透過補邊的方式，不論kernel大小，一律讓輸出長寬=原圖長寬/strides\n",
    "\n",
    "* **當border_mode = 'same'**  \n",
    "模型1輸出長寬=原圖長寬，因為strides=(1,1)  \n",
    "**vs**  \n",
    "模型2輸出長寬=原圖長寬/2，因為strides=(2,2)  \n",
    "<br />\n",
    "* **當border_mode = 'valid'，多的像素直接捨去，不padding**  \n",
    "模型3 原圖長寬=(13,13) 、 kernel_size=(6,6) 、 strides=(1,1) ，因此輸出長寬=(8,8)  \n",
    "**vs**  \n",
    "模型4 原圖長寬=(13,13) 、 kernel_size=(6,6) 、 strides=(2,2) ，因此輸出長寬=(4,4)。捨去1格的像素\n",
    "\n",
    "\n"
   ]
  },
  {
   "cell_type": "code",
   "execution_count": null,
   "metadata": {},
   "outputs": [],
   "source": []
  }
 ],
 "metadata": {
  "kernelspec": {
   "display_name": "Python 3",
   "language": "python",
   "name": "python3"
  },
  "language_info": {
   "codemirror_mode": {
    "name": "ipython",
    "version": 3
   },
   "file_extension": ".py",
   "mimetype": "text/x-python",
   "name": "python",
   "nbconvert_exporter": "python",
   "pygments_lexer": "ipython3",
   "version": "3.7.0"
  }
 },
 "nbformat": 4,
 "nbformat_minor": 2
}
