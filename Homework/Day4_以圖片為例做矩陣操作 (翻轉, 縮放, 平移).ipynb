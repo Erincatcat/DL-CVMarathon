{
 "cells": [
  {
   "cell_type": "markdown",
   "metadata": {},
   "source": [
    "# 作業\n",
    "實作本篇提到的三大概念\n",
    "\n",
    "1. 翻轉：實作上下左右的翻轉\n",
    "2. 縮放：比較鄰近差值與雙立方插值 (或雙線性插值) 的圖片品質\n",
    "3. 平移：建立 Translation Transformation Matrix 來做平移"
   ]
  },
  {
   "cell_type": "code",
   "execution_count": 1,
   "metadata": {},
   "outputs": [],
   "source": [
    "import cv2\n",
    "import time\n",
    "import numpy as np\n",
    "img = cv2.imread('lena.png')"
   ]
  },
  {
   "cell_type": "markdown",
   "metadata": {},
   "source": [
    "## 上下左右翻轉圖片"
   ]
  },
  {
   "cell_type": "code",
   "execution_count": 2,
   "metadata": {},
   "outputs": [],
   "source": [
    "# 水平翻轉(horizontal)\n",
    "img_hflip = img[:, ::-1, :]\n",
    "\n",
    "#垂直翻轉(vertical)\n",
    "img_vflip = img[::-1, :, :]\n",
    "\n",
    "# 水平 + 垂直翻轉\n",
    "img_hvflip = img[::-1, ::-1, :]\n",
    "\n",
    "# 組合 + 顯示圖片\n",
    "hflip = np.hstack((img, img_hflip))  #水平疊加，就是左右兩邊圖並排\n",
    "vflip = np.hstack((img_vflip, img_hvflip))\n",
    "img_flip = np.vstack((hflip, vflip)) #垂直疊加，就是上下兩邊圖append\n",
    "while True:\n",
    "    cv2.imshow('flip image', img_flip)\n",
    "    k = cv2.waitKey(0)\n",
    "    if k == 27:\n",
    "        cv2.destroyAllWindows()\n",
    "        break\n"
   ]
  },
  {
   "cell_type": "markdown",
   "metadata": {},
   "source": [
    "## 縮放圖片\n",
    "放大  \n",
    "我們先透過縮小圖片去壓縮原有圖片保有的資訊，再放大比較不同方法之間的速度與圖片品質  \n",
    "比較鄰近差值與雙立方插值 (或雙線性插值) 的圖片品質"
   ]
  },
  {
   "cell_type": "code",
   "execution_count": 7,
   "metadata": {},
   "outputs": [
    {
     "name": "stdout",
     "output_type": "stream",
     "text": [
      "INTER_NEAREST zoom cost 0.0010001659393310547\n",
      "INTER_CUBIC zoom cost 0.0030002593994140625\n",
      "INTER_LINEAR zoom cost 0.000997781753540039\n"
     ]
    }
   ],
   "source": [
    "# 將圖片縮小成原本的20%\n",
    "img_test = cv2.resize(img, None, fx=0.2, fy=0.2)\n",
    "\n",
    "# 將圖片放大為'小圖片'的8倍大 = 原圖的1.6倍大\n",
    "fx, fy = 8, 8\n",
    "\n",
    "# 鄰近差值 scale + 計算花費時間\n",
    "start_time = time.time()\n",
    "img_area_scale = cv2.resize(img_test, None, fx=fx, fy=fy, interpolation=cv2.INTER_NEAREST)\n",
    "print('INTER_NEAREST zoom cost {}'.format(time.time() - start_time))\n",
    "\n",
    "#雙立方差補 scale + 計算花費時間\n",
    "start_time = time.time()\n",
    "img_cubic_scale = cv2.resize(img_test, None, fx=fx, fy=fy, interpolation=cv2.INTER_CUBIC)\n",
    "print('INTER_CUBIC zoom cost {}'.format(time.time() - start_time))\n",
    "\n",
    "#雙線性差值(預設) scale + 計算花費時間\n",
    "start_time = time.time()\n",
    "img_linear_scale = cv2.resize(img_test, None, fx=fx, fy=fy, interpolation=cv2.INTER_LINEAR)  #interpolation不寫也可，因為預設\n",
    "print('INTER_LINEAR zoom cost {}'.format(time.time()-start_time))\n",
    "\n",
    "# 組合 + 顯示圖片\n",
    "img_zoom0 = np.hstack((img_area_scale, img_cubic_scale))\n",
    "img_zoom = np.hstack((img_zoom0, img_linear_scale))\n",
    "while True:\n",
    "    cv2.imshow('zoom image', img_zoom)\n",
    "    k = cv2.waitKey(0)\n",
    "    if k == 27:\n",
    "        cv2.destroyAllWindows()\n",
    "        break\n"
   ]
  },
  {
   "cell_type": "markdown",
   "metadata": {},
   "source": [
    "**鄰近差值看起來畫質最差，雙立方差補和雙線性差值畫質看起來差不多。**"
   ]
  },
  {
   "cell_type": "markdown",
   "metadata": {},
   "source": [
    "## 平移幾何轉換\n",
    "建立 Translation Transformation Matrix 來做平移"
   ]
  },
  {
   "cell_type": "code",
   "execution_count": 9,
   "metadata": {},
   "outputs": [],
   "source": [
    "# 設定translation transformation matrix\n",
    "# x 平移 50 pixel; y 平移 100 pixel\n",
    "M = np.array([[1, 0, 50],\n",
    "           [0, 1, 100]], dtype = np.float32)\n",
    "shift_img = cv2.warpAffine(img, M, (img.shape[1], img.shape[0]))\n",
    "\n",
    "# 組合 + 顯示圖片\n",
    "img_shift = np.hstack((img, shift_img))\n",
    "while True:\n",
    "    cv2.imshow('shift image', img_shift)\n",
    "    k = cv2. waitKey(0)\n",
    "    if k == 27:\n",
    "        cv2.destroyAllWindows()\n",
    "        break\n"
   ]
  },
  {
   "cell_type": "code",
   "execution_count": null,
   "metadata": {},
   "outputs": [],
   "source": []
  },
  {
   "cell_type": "markdown",
   "metadata": {},
   "source": [
    "# 範例\n",
    "實作本篇提到的三大概念\n",
    "\n",
    "1. 翻轉：實作上下翻轉\n",
    "2. 縮放：實作鄰近差值\n",
    "3. 平移：建立 Translation Transformation Matrix 來做平移"
   ]
  },
  {
   "cell_type": "code",
   "execution_count": 1,
   "metadata": {},
   "outputs": [],
   "source": [
    "import cv2\n",
    "import time\n",
    "import numpy as np\n",
    "img = cv2.imread('lena.png')"
   ]
  },
  {
   "cell_type": "markdown",
   "metadata": {},
   "source": [
    "## 上下翻轉圖片"
   ]
  },
  {
   "cell_type": "code",
   "execution_count": 7,
   "metadata": {},
   "outputs": [],
   "source": [
    "# 垂直翻轉 (vertical)\n",
    "img_vflip = img[::-1, :, :]\n",
    "\n",
    "# 組合 + 顯示圖片\n",
    "hflip = np.vstack((img, img_vflip))\n",
    "while True:\n",
    "    cv2.resizeWindow(\"hflip\", 300, 300)\n",
    "    cv2.imshow('flip image', hflip)\n",
    "    k = cv2.waitKey(0)\n",
    "    if k == 27:\n",
    "        cv2.destroyAllWindows()\n",
    "        break"
   ]
  },
  {
   "cell_type": "markdown",
   "metadata": {},
   "source": [
    "## 縮放圖片\n",
    "**放大**  \n",
    "我們先透過縮小圖片去壓縮原有圖片保有的資訊，再放大比較不同方法之間的速度與圖片品質"
   ]
  },
  {
   "cell_type": "code",
   "execution_count": 4,
   "metadata": {},
   "outputs": [
    {
     "name": "stdout",
     "output_type": "stream",
     "text": [
      "INTER_NEAREST zoom cost 0.0030002593994140625\n"
     ]
    }
   ],
   "source": [
    "# 將圖片縮小成原本的20%\n",
    "img_test = cv2.resize(img, None, fx=0.2, fy=0.2)\n",
    "\n",
    "# 將圖片放大為\"小圖片\"的8倍大 = 原圖的1.6倍大\n",
    "fx, fy = 8, 8\n",
    "\n",
    "# 鄰近差值scale + 計算花費時間\n",
    "start_time = time.time()  #紀錄起始時間\n",
    "img_area_scale = cv2.resize(img_test, None, fx=fx, fy=fy, interpolation=cv2.INTER_NEAREST)\n",
    "print('INTER_NEAREST zoom cost {}'.format(time.time() - start_time))  #計算花費時間\n",
    "\n",
    "# 組合 + 顯示圖片\n",
    "orig_img = cv2.resize(img, img_area_scale.shape[:2])  #shape[:2] 表拿 shape 前兩個值, 也就是長跟寬\n",
    "img_zoom = np.hstack((orig_img, img_area_scale))\n",
    "while True:\n",
    "    cv2.imshow('zoom image', img_zoom)\n",
    "    k = cv2.waitKey(0)\n",
    "    if k == 27:\n",
    "        cv2.destroyAllWindows()\n",
    "        break\n"
   ]
  },
  {
   "cell_type": "markdown",
   "metadata": {},
   "source": [
    "## 平移幾何轉換"
   ]
  },
  {
   "cell_type": "code",
   "execution_count": 5,
   "metadata": {},
   "outputs": [],
   "source": [
    "# 設定translation transformation matrix\n",
    "# x 平移 100 pixel; y 平移 50 pixel\n",
    "M = np.array([[1, 0, 100],\n",
    "              [0, 1, 50]], dtype = np.float32)\n",
    "shift_img = cv2.warpAffine(img, M, (img.shape[1], img.shape[0]))\n",
    "\n",
    "# 組合 + 顯示圖片\n",
    "img_shift = np.hstack((img, shift_img))\n",
    "while True:\n",
    "    cv2.imshow('shift image', img_shift)\n",
    "    k = cv2.waitKey(0)\n",
    "    if k == 27:\n",
    "        cv2.destroyAllWindows()\n",
    "        break"
   ]
  },
  {
   "cell_type": "code",
   "execution_count": null,
   "metadata": {},
   "outputs": [],
   "source": []
  }
 ],
 "metadata": {
  "kernelspec": {
   "display_name": "Python 3",
   "language": "python",
   "name": "python3"
  },
  "language_info": {
   "codemirror_mode": {
    "name": "ipython",
    "version": 3
   },
   "file_extension": ".py",
   "mimetype": "text/x-python",
   "name": "python",
   "nbconvert_exporter": "python",
   "pygments_lexer": "ipython3",
   "version": "3.6.1"
  },
  "toc": {
   "base_numbering": 1,
   "nav_menu": {},
   "number_sections": true,
   "sideBar": true,
   "skip_h1_title": false,
   "title_cell": "Table of Contents",
   "title_sidebar": "Contents",
   "toc_cell": false,
   "toc_position": {},
   "toc_section_display": true,
   "toc_window_display": false
  },
  "varInspector": {
   "cols": {
    "lenName": 16,
    "lenType": 16,
    "lenVar": 40
   },
   "kernels_config": {
    "python": {
     "delete_cmd_postfix": "",
     "delete_cmd_prefix": "del ",
     "library": "var_list.py",
     "varRefreshCmd": "print(var_dic_list())"
    },
    "r": {
     "delete_cmd_postfix": ") ",
     "delete_cmd_prefix": "rm(",
     "library": "var_list.r",
     "varRefreshCmd": "cat(var_dic_list()) "
    }
   },
   "types_to_exclude": [
    "module",
    "function",
    "builtin_function_or_method",
    "instance",
    "_Feature"
   ],
   "window_display": false
  }
 },
 "nbformat": 4,
 "nbformat_minor": 2
}
