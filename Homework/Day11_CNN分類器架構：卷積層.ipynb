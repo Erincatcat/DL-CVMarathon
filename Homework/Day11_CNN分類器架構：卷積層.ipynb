{
 "cells": [
  {
   "cell_type": "markdown",
   "metadata": {},
   "source": [
    "# 『本次練習內容』  \n",
    "\n",
    "運用Keras搭建簡單的Dense Layer與 Convolution2D Layer，使用相同Neurons數量，計算總參數量相差多少。\n",
    "\n",
    "# 『本次練習目的』  \n",
    "本次練習主要是要讓各位同學們了解CNN與FC層的參數使用量差異   \n",
    "Convolution2D有許多參數可以設置，之後章節會細談  \n",
    "不熟Keras的學員們也可以藉此了解NN層的不同搭法  "
   ]
  },
  {
   "cell_type": "code",
   "execution_count": 1,
   "metadata": {},
   "outputs": [
    {
     "name": "stderr",
     "output_type": "stream",
     "text": [
      "Using TensorFlow backend.\n"
     ]
    }
   ],
   "source": [
    "from keras.models import Sequential\n",
    "from keras.layers import Convolution2D\n",
    "from keras.layers import Input, Dense\n",
    "from keras.models import Model"
   ]
  },
  {
   "cell_type": "code",
   "execution_count": 25,
   "metadata": {},
   "outputs": [
    {
     "name": "stdout",
     "output_type": "stream",
     "text": [
      "Model: \"sequential_24\"\n",
      "_________________________________________________________________\n",
      "Layer (type)                 Output Shape              Param #   \n",
      "=================================================================\n",
      "conv2d_13 (Conv2D)           (None, 26, 26, 32)        320       \n",
      "=================================================================\n",
      "Total params: 320\n",
      "Trainable params: 320\n",
      "Non-trainable params: 0\n",
      "_________________________________________________________________\n",
      "None\n",
      "\n",
      "理解輸出Total params為何==320：(3*3+1)*32=320個參數\n",
      "\n",
      "Model: \"model_9\"\n",
      "_________________________________________________________________\n",
      "Layer (type)                 Output Shape              Param #   \n",
      "=================================================================\n",
      "input_9 (InputLayer)         (None, 784)               0         \n",
      "_________________________________________________________________\n",
      "dense_9 (Dense)              (None, 288)               226080    \n",
      "=================================================================\n",
      "Total params: 226,080\n",
      "Trainable params: 226,080\n",
      "Non-trainable params: 0\n",
      "_________________________________________________________________\n",
      "None\n",
      "\n",
      "理解輸出Total params為何==226080：288*784(weights)+288(bias)=226080個參數\n"
     ]
    }
   ],
   "source": [
    "# 輸入照片尺寸==28*28*1\n",
    "# 都用一層，288個神經元\n",
    "\n",
    "## 建造一個一層的 CNN 層\n",
    "classifier = Sequential()\n",
    "\n",
    "## Kernel size 3*3，用32張，輸入大小28*28*1\n",
    "classifier.add(Convolution2D(32,(3,3),input_shape=(28,28,1))) \n",
    "# kernel 常見張數16、32、64....，若用16張就能表現很好，就不需要浪費額外的參數增加計算量\n",
    "# kernel size常見3*3、5*5。kernel size和receptive field有關(影響提取資訊的尺度)，普遍方式是選用不同大小的kernel對圖像做卷積，\n",
    "# 再把輸出的 feature maps合併或平均。 或許，兩層的3*3與一層的5*5有相近的 receptive field，但兩層的3*3參數量更少。\n",
    "\n",
    "## 看看model結構\n",
    "print(classifier.summary())\n",
    "print()\n",
    "print('理解輸出Total params為何==320：(3*3+1)*32=320個參數')\n",
    "print()\n",
    "\n",
    "\n",
    "## 建造一個一層的FC層\n",
    "classifier = Sequential()\n",
    "## 輸入為28*28*1攤平==784\n",
    "inputs = Input(shape=(784,))  \n",
    "## CNN 中用了(3*3*1)*32個神經元，我們這邊也用相同神經元數量\n",
    "x = Dense(288)(inputs) #使用288個神經元\n",
    "model = Model(inputs=inputs, outputs=x)\n",
    "## 看看model結構\n",
    "print(model.summary())\n",
    "print()\n",
    "print('理解輸出Total params為何==226080：288*784(weights)+288(bias)=226080個參數')\n",
    "\n",
    "##大家可以自己變換設定看看參數變化"
   ]
  },
  {
   "cell_type": "code",
   "execution_count": null,
   "metadata": {},
   "outputs": [],
   "source": []
  }
 ],
 "metadata": {
  "kernelspec": {
   "display_name": "Python 3",
   "language": "python",
   "name": "python3"
  },
  "language_info": {
   "codemirror_mode": {
    "name": "ipython",
    "version": 3
   },
   "file_extension": ".py",
   "mimetype": "text/x-python",
   "name": "python",
   "nbconvert_exporter": "python",
   "pygments_lexer": "ipython3",
   "version": "3.7.0"
  }
 },
 "nbformat": 4,
 "nbformat_minor": 2
}
