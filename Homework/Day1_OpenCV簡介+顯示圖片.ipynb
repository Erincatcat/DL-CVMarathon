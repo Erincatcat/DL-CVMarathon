{
 "cells": [
  {
   "cell_type": "markdown",
   "metadata": {},
   "source": [
    "# 作業\n",
    "思考一下我們前面有提到圖片是矩陣，但維度可能會不一樣 例如灰階圖只有兩個維度，RGB 彩圖則有 3 個維度\n",
    "\n",
    "假如今天我們把 RGB 3 個維度拆開來看會有甚麼不同的效果呢？"
   ]
  },
  {
   "cell_type": "code",
   "execution_count": 1,
   "metadata": {},
   "outputs": [],
   "source": [
    "import cv2\n",
    "\n",
    "#以彩色圖片的方式載入\n",
    "img = cv2.imread('lena.png', cv2.IMREAD_COLOR) \n",
    "\n",
    "#把RGB3個維度拆開\n",
    "img_R = img[:,:,0] #R\n",
    "img_G = img[:,:,1] #G\n",
    "img_B = img[:,:,2] #B\n",
    "\n",
    "#黑色底圖\n",
    "img_DR = img_DG = img_DB = img * 0\n",
    "\n",
    "#把拆開的維度疊加上去\n",
    "img_DR[:,:,0] = img_R\n",
    "img_DG[:,:,0] = img_G\n",
    "img_DB[:,:,0] = img_B"
   ]
  },
  {
   "cell_type": "code",
   "execution_count": 2,
   "metadata": {},
   "outputs": [],
   "source": [
    "#為了不斷地顯示圖片，使用一個迴圈\n",
    "while True:\n",
    "    #顯示彩圖\n",
    "    cv2.imshow('bgr',img)\n",
    "    \n",
    "    #顯示RGB亮度\n",
    "    cv2.imshow('R',img_R)\n",
    "    cv2.imshow('G',img_G)\n",
    "    cv2.imshow('B',img_B)\n",
    "    \n",
    "    #顯示疊加\n",
    "    cv2.imshow('DR',img_DR)\n",
    "    cv2.imshow('DG',img_DG)\n",
    "    cv2.imshow('DB',img_DB)\n",
    "\n",
    "    #直到按下ESC才會自動關閉視窗結束程式\n",
    "    k = cv2.waitKey(0)\n",
    "    if k == 27:\n",
    "        cv2.destroyAllWindows()\n",
    "        break"
   ]
  },
  {
   "cell_type": "code",
   "execution_count": null,
   "metadata": {},
   "outputs": [],
   "source": []
  },
  {
   "cell_type": "markdown",
   "metadata": {},
   "source": [
    "# 範例\n",
    "使用 Lena\n",
    "\n",
    "以彩色圖片顯示\n",
    "以灰階圖片顯示"
   ]
  },
  {
   "cell_type": "code",
   "execution_count": null,
   "metadata": {},
   "outputs": [],
   "source": [
    "import cv2\n",
    "\n",
    "#以彩色圖片的方式載入\n",
    "img = cv2.imread('lena.png', cv2.IMREAD_COLOR) \n",
    "\n",
    "#以灰階圖片的方式載入\n",
    "img_gray = cv2.imread('lena.png', cv2.IMREAD_GRAYSCALE)\n",
    "\n",
    "#為了要不斷顯示圖片，所以使用一個迴圈\n",
    "while True:\n",
    "    #顯示彩圖\n",
    "    cv2.imshow('bgr', img)\n",
    "    #顯示灰圖\n",
    "    cv2.imshow('gray', img_gray)\n",
    "    \n",
    "    #直到按下Esc鍵才會自動關閉視窗結束程式\n",
    "    k = cv2.waitKey(0)  # waitkey代表讀取鍵盤的輸入，括號裡的數字代表等待多久時間，單位ms。0代表一直等待\n",
    "    if k == 27:  # 鍵盤上Esc的鍵值\n",
    "        cv2.destroyAllWindows()\n",
    "        break\n",
    " "
   ]
  },
  {
   "cell_type": "code",
   "execution_count": null,
   "metadata": {},
   "outputs": [],
   "source": []
  },
  {
   "cell_type": "code",
   "execution_count": null,
   "metadata": {},
   "outputs": [],
   "source": []
  },
  {
   "cell_type": "code",
   "execution_count": null,
   "metadata": {},
   "outputs": [],
   "source": []
  },
  {
   "cell_type": "code",
   "execution_count": null,
   "metadata": {},
   "outputs": [],
   "source": []
  },
  {
   "cell_type": "code",
   "execution_count": null,
   "metadata": {},
   "outputs": [],
   "source": []
  },
  {
   "cell_type": "code",
   "execution_count": null,
   "metadata": {},
   "outputs": [],
   "source": []
  }
 ],
 "metadata": {
  "kernelspec": {
   "display_name": "Python 3",
   "language": "python",
   "name": "python3"
  },
  "language_info": {
   "codemirror_mode": {
    "name": "ipython",
    "version": 3
   },
   "file_extension": ".py",
   "mimetype": "text/x-python",
   "name": "python",
   "nbconvert_exporter": "python",
   "pygments_lexer": "ipython3",
   "version": "3.6.1"
  },
  "toc": {
   "base_numbering": 1,
   "nav_menu": {},
   "number_sections": true,
   "sideBar": true,
   "skip_h1_title": false,
   "title_cell": "Table of Contents",
   "title_sidebar": "Contents",
   "toc_cell": false,
   "toc_position": {},
   "toc_section_display": true,
   "toc_window_display": false
  },
  "varInspector": {
   "cols": {
    "lenName": 16,
    "lenType": 16,
    "lenVar": 40
   },
   "kernels_config": {
    "python": {
     "delete_cmd_postfix": "",
     "delete_cmd_prefix": "del ",
     "library": "var_list.py",
     "varRefreshCmd": "print(var_dic_list())"
    },
    "r": {
     "delete_cmd_postfix": ") ",
     "delete_cmd_prefix": "rm(",
     "library": "var_list.r",
     "varRefreshCmd": "cat(var_dic_list()) "
    }
   },
   "types_to_exclude": [
    "module",
    "function",
    "builtin_function_or_method",
    "instance",
    "_Feature"
   ],
   "window_display": false
  }
 },
 "nbformat": 4,
 "nbformat_minor": 2
}
