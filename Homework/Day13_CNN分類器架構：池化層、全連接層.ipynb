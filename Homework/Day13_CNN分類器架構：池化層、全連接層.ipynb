{
 "cells": [
  {
   "cell_type": "markdown",
   "metadata": {},
   "source": [
    "# 『作業內容』\n",
    "依照指示，搭建Maxpooling層與全連接層\n",
    "# 『目標』\n",
    "了解Maxpooling的原理與CNN、FC層連結的方式"
   ]
  },
  {
   "cell_type": "code",
   "execution_count": 9,
   "metadata": {},
   "outputs": [],
   "source": [
    "from keras.models import Sequential # 用來啟動NN\n",
    "from keras.layers import Conv2D, MaxPooling2D, Flatten, Dense, GlobalAveragePooling2D #分別為 convolution operation; pooling; ;fully connected networks;"
   ]
  },
  {
   "cell_type": "code",
   "execution_count": 7,
   "metadata": {},
   "outputs": [
    {
     "name": "stdout",
     "output_type": "stream",
     "text": [
      "Model: \"sequential_5\"\n",
      "_________________________________________________________________\n",
      "Layer (type)                 Output Shape              Param #   \n",
      "=================================================================\n",
      "conv2d_17 (Conv2D)           (None, 32, 32, 32)        896       \n",
      "_________________________________________________________________\n",
      "max_pooling2d_13 (MaxPooling (None, 16, 16, 32)        0         \n",
      "_________________________________________________________________\n",
      "conv2d_18 (Conv2D)           (None, 16, 16, 64)        18496     \n",
      "_________________________________________________________________\n",
      "max_pooling2d_14 (MaxPooling (None, 8, 8, 64)          0         \n",
      "_________________________________________________________________\n",
      "conv2d_19 (Conv2D)           (None, 8, 8, 128)         73856     \n",
      "_________________________________________________________________\n",
      "max_pooling2d_15 (MaxPooling (None, 8, 8, 128)         0         \n",
      "_________________________________________________________________\n",
      "conv2d_20 (Conv2D)           (None, 8, 8, 10)          11530     \n",
      "_________________________________________________________________\n",
      "flatten_5 (Flatten)          (None, 640)               0         \n",
      "_________________________________________________________________\n",
      "dense_5 (Dense)              (None, 28)                17948     \n",
      "=================================================================\n",
      "Total params: 122,726\n",
      "Trainable params: 122,726\n",
      "Non-trainable params: 0\n",
      "_________________________________________________________________\n"
     ]
    }
   ],
   "source": [
    "input_shape = (32, 32, 3)\n",
    "\n",
    "model = Sequential()\n",
    "\n",
    "model.add(Conv2D(32, kernel_size=(3,3), padding='same', input_shape = input_shape))\n",
    "model.add(MaxPooling2D(pool_size=(2,2), strides=(2,2))) \n",
    "## pooling_size=(2,2)、strides=(2,2)，輸出feature map大小為多少？\n",
    "#→→Day11:params(參數量) = (kernel_size * input_channels + 1) * filter = (3*3*3 + 1) * 32 = 896  #filter means kernel numbers\n",
    "#→→Day12:pooling_output = (input + 2*padding - kernel_size) / stride + 1 = (32+2*1-3)/2 + 1 = 16\n",
    "\n",
    "model.add(Conv2D(64, kernel_size=(3,3), padding='same'))\n",
    "model.add(MaxPooling2D(pool_size=(2,2), strides=(2,2)))\n",
    "##pooling_size=2,2 strides=2,2 輸出feature map 大小為多少？\n",
    "#→→params(參數量) = (3*3*32 + 1) * 64 = 18496  #因上個output_shape=(32,32,32)，因此這裡的input_channels=32\n",
    "#→→pooling_output = (16+2*1-3)/2 + 1 = 8  #因上個pooling_output=16，因此這裡的input=16\n",
    "\n",
    "model.add(Conv2D(128, kernel_size=(3,3), padding='same'))\n",
    "model.add(MaxPooling2D(pool_size=(1,1), strides=(1,1)))\n",
    "##pooling_size=1,1 strides=1,1 輸出feature map 大小為多少？\n",
    "#→→params(參數量) = (3*3*64 + 1) * 128 = 73856  #因上個output_shape=(16,16,64)，因此這裡的input_channels=64\n",
    "#→→pooling_output = (8+2*1-3)/1 + 1 = 8  #因上個pooling_output=8，因此這裡的input=8\n",
    "\n",
    "model.add(Conv2D(10, kernel_size=(3,3), padding='same'))\n",
    "#→→params(參數量) = (3*3*128 + 1) * 10 = 11530  #因上個output_shape=(8,8,128)，因此這裡的input_channels=128\n",
    "#→→pooling_output = (8+2*1-3)/1 + 1 = 8  #因上個pooling_output=8，因此這裡的input=8\n",
    "model.add(Flatten())\n",
    "##Flatten完尺寸如何變化？\n",
    "#→→因為output shape=(8,8,10)，所以flatten後=8*8*10=640\n",
    "model.add(Dense(units=28)) #全連接層使用28個units   \n",
    "#→→params(參數量) = (640*1*1 + 1) * 28 = 17948  \n",
    "model.summary()"
   ]
  },
  {
   "cell_type": "code",
   "execution_count": 10,
   "metadata": {},
   "outputs": [
    {
     "name": "stdout",
     "output_type": "stream",
     "text": [
      "Model: \"sequential_7\"\n",
      "_________________________________________________________________\n",
      "Layer (type)                 Output Shape              Param #   \n",
      "=================================================================\n",
      "conv2d_25 (Conv2D)           (None, 32, 32, 32)        896       \n",
      "_________________________________________________________________\n",
      "max_pooling2d_19 (MaxPooling (None, 16, 16, 32)        0         \n",
      "_________________________________________________________________\n",
      "conv2d_26 (Conv2D)           (None, 16, 16, 64)        18496     \n",
      "_________________________________________________________________\n",
      "max_pooling2d_20 (MaxPooling (None, 8, 8, 64)          0         \n",
      "_________________________________________________________________\n",
      "conv2d_27 (Conv2D)           (None, 8, 8, 128)         73856     \n",
      "_________________________________________________________________\n",
      "max_pooling2d_21 (MaxPooling (None, 8, 8, 128)         0         \n",
      "_________________________________________________________________\n",
      "conv2d_28 (Conv2D)           (None, 8, 8, 10)          11530     \n",
      "_________________________________________________________________\n",
      "global_average_pooling2d_1 ( (None, 10)                0         \n",
      "_________________________________________________________________\n",
      "dense_6 (Dense)              (None, 28)                308       \n",
      "=================================================================\n",
      "Total params: 105,086\n",
      "Trainable params: 105,086\n",
      "Non-trainable params: 0\n",
      "_________________________________________________________________\n"
     ]
    }
   ],
   "source": [
    "#關掉Flatten，使用GlobalAveragePooling2D，尺寸如何變化？\n",
    "input_shape = (32, 32, 3)\n",
    "\n",
    "model = Sequential()\n",
    "\n",
    "model.add(Conv2D(filters=32, kernel_size=(3,3), padding='same', input_shape = input_shape))\n",
    "model.add(MaxPooling2D(pool_size=(2,2), strides=(2,2))) \n",
    "\n",
    "model.add(Conv2D(64, kernel_size=(3,3), padding='same'))\n",
    "model.add(MaxPooling2D(pool_size=(2,2), strides=(2,2)))\n",
    "\n",
    "model.add(Conv2D(128, kernel_size=(3,3), padding='same'))\n",
    "model.add(MaxPooling2D(pool_size=(1,1), strides=(1,1)))\n",
    "\n",
    "model.add(Conv2D(10, kernel_size=(3,3), padding='same'))\n",
    "#model.add(Flatten())\n",
    "model.add(GlobalAveragePooling2D()) \n",
    "#關掉Flatten，使用GlobalAveragePooling2D，尺寸如何變化？\n",
    "#→→10\n",
    "#因為GlobalAveragePooling是將最後一層的特徵圖進行整張圖的均值池化，以形成一個特徵點，再將這些特徵點形成最後的特徵向量以便後續進行計算。\n",
    "#最後一層的數據是10個8*8的特徵圖，global average pooling將每張特徵圖計算所有像素點的均值後輸出一個數值，所以10個特徵圖就會有10個數值\n",
    "#並組成一個1*10的特徵向量。 參考來源: https://blog.csdn.net/losteng/article/details/51520555\n",
    "\n",
    "model.add(Dense(units=28)) #全連接層使用28個units     \n",
    "#→→params(參數量) = (10*1*1 + 1) * 28 = 308  \n",
    "\n",
    "model.summary()"
   ]
  },
  {
   "cell_type": "code",
   "execution_count": null,
   "metadata": {},
   "outputs": [],
   "source": []
  }
 ],
 "metadata": {
  "kernelspec": {
   "display_name": "Python 3",
   "language": "python",
   "name": "python3"
  },
  "language_info": {
   "codemirror_mode": {
    "name": "ipython",
    "version": 3
   },
   "file_extension": ".py",
   "mimetype": "text/x-python",
   "name": "python",
   "nbconvert_exporter": "python",
   "pygments_lexer": "ipython3",
   "version": "3.7.0"
  }
 },
 "nbformat": 4,
 "nbformat_minor": 2
}
