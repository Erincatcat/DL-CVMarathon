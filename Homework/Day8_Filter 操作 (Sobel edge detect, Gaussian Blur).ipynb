{
 "cells": [
  {
   "cell_type": "markdown",
   "metadata": {},
   "source": [
    "# 作業 \n",
    "實作模糊與邊緣檢測\n",
    "\n",
    "透過 Gaussian Filter 實作模糊操作  \n",
    "透過 Sobel Filter 實作邊緣檢測"
   ]
  },
  {
   "cell_type": "code",
   "execution_count": 14,
   "metadata": {},
   "outputs": [],
   "source": [
    "import cv2\n",
    "import numpy as np\n",
    "\n",
    "img = cv2.imread('lena.png')"
   ]
  },
  {
   "cell_type": "markdown",
   "metadata": {},
   "source": [
    "**<font size=5>邊緣檢測</font>**  \n",
    "**<font size=4>比較 Sobel 如果在 uint8 的情況下做會 overflow 的狀況</font>**"
   ]
  },
  {
   "cell_type": "code",
   "execution_count": 15,
   "metadata": {},
   "outputs": [],
   "source": [
    "# 轉為灰階圖片\n",
    "img_grey = cv2.cvtColor(img, cv2.COLOR_BGR2GRAY)\n",
    "\n",
    "# 對 x 方向以包含負數的資料格式 (cv2.CV_16S) 進行 Sobel 邊緣檢測\n",
    "img_sobel_x = cv2.Sobel(img_grey, cv2.CV_16S, dx=1, dy=0, ksize=3)   \n",
    "\n",
    "# 對 x 方向依照比例縮放到所有數值都是非負整數\n",
    "img_sobel_x = cv2.convertScaleAbs(img_sobel_x)  # 處理變為非負整數\n",
    "\n",
    "# 對 x 方向直接以非負整數的資料格式 (uint8) 進行 Sobel 邊緣檢測\n",
    "img_sobel_x_uint8 = cv2.Sobel(img_grey, cv2.CV_8U, dx=1, dy=0, ksize=3)\n",
    "\n",
    "# 組合 + 顯示圖片\n",
    "img_show = np.hstack((img_grey, img_sobel_x, img_sobel_x_uint8))\n",
    "while True:\n",
    "    # 比較 Sobel 邊緣檢測的過程中針對負數操作的不同產生的差異\n",
    "    cv2.imshow('Edge Detection', img_show)\n",
    "    k = cv2.waitKey(0)\n",
    "    if k == 27:\n",
    "        cv2.destroyAllWindows()\n",
    "        break\n"
   ]
  },
  {
   "cell_type": "markdown",
   "metadata": {},
   "source": [
    "**<font size=4>比較一次與兩次計算偏微分的結果</font>**"
   ]
  },
  {
   "cell_type": "code",
   "execution_count": 18,
   "metadata": {},
   "outputs": [],
   "source": [
    "img_grey = cv2.cvtColor(img, cv2.COLOR_BGR2GRAY)\n",
    "\n",
    "# 求一次導數取得邊緣檢測結果\n",
    "img_sobel_x = cv2.Sobel(img_grey, cv2.CV_16S, dx=1, dy=0, ksize=3)   \n",
    "img_sobel_x = cv2.convertScaleAbs(img_sobel_x)  \n",
    "\n",
    "# 求二次導數取得邊緣檢測結果\n",
    "img_sobel_x2 = cv2.Sobel(img_grey, cv2.CV_16S, dx=2, dy=0, ksize=3)\n",
    "img_sobel_x2 = cv2.convertScaleAbs(img_sobel_x2)\n",
    "\n",
    "# 組合 + 顯示圖片\n",
    "img_show = np.hstack((img_grey, img_sobel_x, img_sobel_x2))\n",
    "while True:\n",
    "    cv2.imshow('Edge Detection', img_show)\n",
    "    k = cv2.waitKey(0)\n",
    "    if k == 27:\n",
    "        cv2.destroyAllWindows()\n",
    "        break"
   ]
  },
  {
   "cell_type": "code",
   "execution_count": null,
   "metadata": {},
   "outputs": [],
   "source": []
  },
  {
   "cell_type": "markdown",
   "metadata": {},
   "source": [
    "# 範例\n",
    "實作模糊與邊緣檢測\n",
    "\n",
    "透過 Gaussian Filter 實作模糊操作  \n",
    "透過 Sobel Filter 實作邊緣檢測"
   ]
  },
  {
   "cell_type": "code",
   "execution_count": 7,
   "metadata": {},
   "outputs": [],
   "source": [
    "import cv2\n",
    "import numpy as np\n",
    "\n",
    "img = cv2.imread('lena.png')"
   ]
  },
  {
   "cell_type": "markdown",
   "metadata": {},
   "source": [
    "**<font size=5>模糊</font>**"
   ]
  },
  {
   "cell_type": "code",
   "execution_count": 12,
   "metadata": {},
   "outputs": [],
   "source": [
    "img_blur3 = img.copy()\n",
    "img_blur5 = img.copy()\n",
    "img_blur7 = img.copy()\n",
    "\n",
    "# 重複多次 Gaussian 模糊的操作來加深模糊的程度\n",
    "img_blur3 = cv2.GaussianBlur(img_blur3, (3, 3), 0)  #0是讓函數根據核函數的大小自行計算高斯函數沿著 X 或 Y 方向的標準差\n",
    "img_blur3 = cv2.GaussianBlur(img_blur3, (3, 3), 0)  #標準差可以分別調整 X 和 Y的，若只指定一個，則 X 和 Y 的設定會一樣\n",
    "img_blur3 = cv2.GaussianBlur(img_blur3, (3, 3), 0)\n",
    "\n",
    "# 重複多次 Gaussian 模糊的操作來加深模糊的程度\n",
    "img_blur5 = cv2.GaussianBlur(img_blur5, (5, 5), 0)\n",
    "img_blur5 = cv2.GaussianBlur(img_blur5, (5, 5), 0)\n",
    "img_blur5 = cv2.GaussianBlur(img_blur5, (5, 5), 0)\n",
    "\n",
    "# 重複多次 Gaussian 模糊的操作來加深模糊的程度\n",
    "img_blur7 = cv2.GaussianBlur(img_blur7, (7, 7), 0)\n",
    "img_blur7 = cv2.GaussianBlur(img_blur7, (7, 7), 0)\n",
    "img_blur7 = cv2.GaussianBlur(img_blur7, (7, 7), 0)\n",
    "\n",
    "# 組合 + 顯示圖片\n",
    "img_show = np.hstack((img, img_blur3, img_blur5, img_blur7))\n",
    "while True:\n",
    "    cv2.imshow('Gaussian Blur', img_show)\n",
    "    k = cv2.waitKey(0)\n",
    "    if k == 27:\n",
    "        cv2.destroyAllWindows()\n",
    "        break"
   ]
  },
  {
   "cell_type": "markdown",
   "metadata": {},
   "source": [
    "→由上可見，在重複 Gaussian 模糊次數相同下，filter越大，模糊程度越大"
   ]
  },
  {
   "cell_type": "markdown",
   "metadata": {},
   "source": [
    "**<font size=5>邊緣檢測</font>**  \n",
    "\n",
    "**<font size=4>組合x-axis, y-axis</font>**"
   ]
  },
  {
   "cell_type": "code",
   "execution_count": 13,
   "metadata": {},
   "outputs": [],
   "source": [
    "img_grey = cv2.cvtColor(img, cv2.COLOR_BGR2GRAY)\n",
    "\n",
    "# 對 x 方向做 Sobel 邊緣檢測\n",
    "img_sobel_x = cv2.Sobel(img_grey, \n",
    "                        cv2.CV_16S, # Sobel函數求完導數後會有負值，還會有大於255的值。但原圖像是uint8，即8位無符號數，\n",
    "                                    # 所以Sobel建立的圖像位數不夠，位數會被截斷。因此要先轉換成16位有符號的數據類型:int16\n",
    "                        dx=1, dy=0, # 對x和y求導數的次數\n",
    "                        ksize=3)    # ksize是Sobel算子的大小，必須為1、3、5、7\n",
    "img_sobel_x = cv2.convertScaleAbs(img_sobel_x)  # 處理變為非負整數\n",
    "\n",
    "# 對 y 方向做 Sobel邊緣檢測\n",
    "img_sobel_y = cv2.Sobel(img_grey, cv2.CV_16S, dx=0, dy=1, ksize=3)    \n",
    "img_sobel_y = cv2.convertScaleAbs(img_sobel_y)  \n",
    "\n",
    "# x, y方向的邊緣檢測後的圖各以一半的權重進行合成\n",
    "img_sobel_combine = cv2.addWeighted(img_sobel_x, 0.5, img_sobel_y, 0.5, 0)\n",
    "\n",
    "# 組合 + 顯示圖片\n",
    "img_show = np.hstack((img_sobel_x, img_sobel_y, img_sobel_combine))\n",
    "while True:\n",
    "    cv2.imshow('Edge Detection', img_show)\n",
    "    k = cv2.waitKey(0)\n",
    "    if k == 27:\n",
    "        cv2.destroyAllWindows()\n",
    "        break"
   ]
  },
  {
   "cell_type": "code",
   "execution_count": null,
   "metadata": {},
   "outputs": [],
   "source": []
  }
 ],
 "metadata": {
  "kernelspec": {
   "display_name": "Python 3",
   "language": "python",
   "name": "python3"
  },
  "language_info": {
   "codemirror_mode": {
    "name": "ipython",
    "version": 3
   },
   "file_extension": ".py",
   "mimetype": "text/x-python",
   "name": "python",
   "nbconvert_exporter": "python",
   "pygments_lexer": "ipython3",
   "version": "3.7.0"
  }
 },
 "nbformat": 4,
 "nbformat_minor": 2
}
